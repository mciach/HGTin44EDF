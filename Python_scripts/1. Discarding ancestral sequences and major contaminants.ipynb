{
 "cells": [
  {
   "cell_type": "markdown",
   "id": "c6ba63e8",
   "metadata": {},
   "source": [
    "## Description\n",
    "\n",
    "In this notebook, we discard proteins which are:  \n",
    "1. Homologous to proteins from more than one fungal taxonomic family  \n",
    "2. Encoded by genes on contigs with no detectable homology to other fungi  "
   ]
  },
  {
   "cell_type": "markdown",
   "id": "706f4f9f",
   "metadata": {},
   "source": [
    "## Modules"
   ]
  },
  {
   "cell_type": "code",
   "execution_count": null,
   "id": "d37ac6de",
   "metadata": {},
   "outputs": [],
   "source": [
    "from collections import Counter"
   ]
  },
  {
   "cell_type": "markdown",
   "id": "73357aef",
   "metadata": {},
   "source": [
    "## Data"
   ]
  },
  {
   "cell_type": "markdown",
   "id": "26fba34a",
   "metadata": {},
   "source": [
    "Accessions of the target proteomes:"
   ]
  },
  {
   "cell_type": "code",
   "execution_count": null,
   "id": "b9006f4d",
   "metadata": {},
   "outputs": [],
   "source": [
    "target_accessions = open('basal_accessions.txt')\n",
    "target_accessions = set(l.strip() for l in target_accessions if l.strip())\n",
    "len(target_accessions)"
   ]
  },
  {
   "cell_type": "markdown",
   "id": "787fd7e8",
   "metadata": {},
   "source": [
    "Mapping of organism taxids to their family taxids:"
   ]
  },
  {
   "cell_type": "code",
   "execution_count": null,
   "id": "882e693c",
   "metadata": {},
   "outputs": [],
   "source": [
    "org2taxid_file = 'org2taxid.tsv'\n",
    "org2taxid = [l.strip().split('\\t') for l in open(org2taxid_file) if l.strip()]\n",
    "speciestx2familytx = {l[2]: l[3] for l in org2taxid}"
   ]
  },
  {
   "cell_type": "markdown",
   "id": "902bcc42",
   "metadata": {},
   "source": [
    "Initial blast results (all-vs-all blast within the target organisms), used for step 1: "
   ]
  },
  {
   "cell_type": "code",
   "execution_count": null,
   "id": "511aad5a",
   "metadata": {},
   "outputs": [],
   "source": [
    "blast_result_file = 'initial_blast_results'\n",
    "blast_results = [l.strip().split('\\t') for l in open(blast_result_file) if l.strip()]        "
   ]
  },
  {
   "cell_type": "markdown",
   "id": "8d66fe5e",
   "metadata": {},
   "source": [
    "Accession to scaffold mapping, used for step 2:"
   ]
  },
  {
   "cell_type": "code",
   "execution_count": null,
   "id": "588e3e3b",
   "metadata": {},
   "outputs": [],
   "source": [
    "acc2scaffold_file = 'acc2scaffold.tsv'\n",
    "acc2scaffold = {}\n",
    "with open(acc2scaffold_file) as h:\n",
    "    for l in h:\n",
    "        l = l.strip().split('\\t')\n",
    "        assert l[0] not in acc2scaffold\n",
    "        acc2scaffold[l[0]] = l[1]\n",
    "len(acc2scaffold) "
   ]
  },
  {
   "cell_type": "markdown",
   "id": "2901cf0a",
   "metadata": {},
   "source": [
    "## Data processing"
   ]
  },
  {
   "cell_type": "markdown",
   "id": "047dd898",
   "metadata": {},
   "source": [
    "Generate dictionaries that map protein accessions to the number of species and number of taxonomic families in which the protein has homologs."
   ]
  },
  {
   "cell_type": "code",
   "execution_count": null,
   "id": "d94a2fd9",
   "metadata": {},
   "outputs": [],
   "source": [
    "accession_species_pairs = set((l[0], l[2]) for l in blast_results)\n",
    "species_counter = Counter([x[0] for x in accession_species_pairs])"
   ]
  },
  {
   "cell_type": "code",
   "execution_count": null,
   "id": "2d02e5e6",
   "metadata": {},
   "outputs": [],
   "source": [
    "accession_family_pairs = set((l[0], speciestx2familytx[l[2]]) for l in blast_results)\n",
    "family_counter = Counter([x[0] for x in accession_family_pairs])"
   ]
  },
  {
   "cell_type": "code",
   "execution_count": null,
   "id": "e875263a",
   "metadata": {},
   "outputs": [],
   "source": [
    "edf_occurence_table = [(acc, species_counter[acc], family_counter[acc]) for acc in target_accessions]\n",
    "with open('edf_occurence_table.tsv', 'w') as h:\n",
    "    for l in edf_occurence_table:\n",
    "        h.write('\\t'.join(l) + '\\n')"
   ]
  },
  {
   "cell_type": "markdown",
   "id": "30a8a7e1",
   "metadata": {},
   "source": [
    "Generate a mapping of protein accession to the number of protein-encoding genes on the same scaffold with homology to at least 2 fungal species:"
   ]
  },
  {
   "cell_type": "code",
   "execution_count": null,
   "id": "1ba5d197",
   "metadata": {},
   "outputs": [],
   "source": [
    "scaffold2anc_nb = Counter()  # numbers of proteins in at least 2 fungi per scaffold\n",
    "for acc in nb_of_edf_homologs:\n",
    "    if species_counter[acc] >= 2:\n",
    "        scaffold = acc2scaffold[acc]\n",
    "        scaffold2anc_nb[scaffold] += 1"
   ]
  },
  {
   "cell_type": "markdown",
   "id": "bc20026f",
   "metadata": {},
   "source": [
    "Select the single-family accessions (step 1) and remove contaminants (step 2), save the resulting list of accessions:"
   ]
  },
  {
   "cell_type": "code",
   "execution_count": null,
   "id": "526597ca",
   "metadata": {},
   "outputs": [],
   "source": [
    "single_family_accessions = [acc for acc in target_accessions if scaffold2anc_nb[acc] >= 1 and family_counter[acc] == 1]"
   ]
  },
  {
   "cell_type": "code",
   "execution_count": null,
   "id": "e3459f96",
   "metadata": {},
   "outputs": [],
   "source": [
    "with open('single_family_accessions.txt', 'w') as h:\n",
    "    h.write('\\n'.join(single_family_accessions) + '\\n')"
   ]
  }
 ],
 "metadata": {
  "kernelspec": {
   "display_name": "Python 3",
   "language": "python",
   "name": "python3"
  },
  "language_info": {
   "codemirror_mode": {
    "name": "ipython",
    "version": 3
   },
   "file_extension": ".py",
   "mimetype": "text/x-python",
   "name": "python",
   "nbconvert_exporter": "python",
   "pygments_lexer": "ipython3",
   "version": "3.8.0"
  }
 },
 "nbformat": 4,
 "nbformat_minor": 5
}
