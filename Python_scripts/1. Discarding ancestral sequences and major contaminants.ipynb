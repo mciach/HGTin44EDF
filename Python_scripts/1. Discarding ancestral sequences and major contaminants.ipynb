{
 "cells": [
  {
   "cell_type": "markdown",
   "id": "df17e6a5",
   "metadata": {},
   "source": [
    "## Description\n",
    "\n",
    "In this notebook, we discard proteins which are:  \n",
    "1. Homologous to proteins from more than one fungal taxonomic family  \n",
    "2. Encoded by genes on contigs with no detectable homology to other fungi  "
   ]
  },
  {
   "cell_type": "markdown",
   "id": "d08c352a",
   "metadata": {},
   "source": [
    "## Modules "
   ]
  },
  {
   "cell_type": "code",
   "execution_count": null,
   "id": "86dfb02d",
   "metadata": {},
   "outputs": [],
   "source": []
  },
  {
   "cell_type": "markdown",
   "id": "6aa1726f",
   "metadata": {},
   "source": [
    "## Data"
   ]
  },
  {
   "cell_type": "markdown",
   "id": "a0dd7231",
   "metadata": {},
   "source": [
    "Accessions of the target proteomes:"
   ]
  },
  {
   "cell_type": "code",
   "execution_count": null,
   "id": "e6dd20e4",
   "metadata": {},
   "outputs": [],
   "source": []
  },
  {
   "cell_type": "markdown",
   "id": "f59cc2e2",
   "metadata": {},
   "source": [
    "Initial blast results (all-vs-all blast within the target organisms), used for step 1: "
   ]
  },
  {
   "cell_type": "code",
   "execution_count": null,
   "id": "15e89187",
   "metadata": {},
   "outputs": [],
   "source": []
  },
  {
   "cell_type": "markdown",
   "id": "c4d5938a",
   "metadata": {},
   "source": [
    "Accession to scaffold mapping, used for step 2:"
   ]
  },
  {
   "cell_type": "code",
   "execution_count": null,
   "id": "b89d6cfb",
   "metadata": {},
   "outputs": [],
   "source": [
    "acc2scaffold_file = 'acc2scaffold.tsv'\n",
    "acc2scaffold = {}\n",
    "with open(acc2scaffold_file) as h:\n",
    "    for l in h:\n",
    "        l = l.strip().split('\\t')\n",
    "        assert l[0] not in acc2scaffold\n",
    "        acc2scaffold[l[0]] = l[1]\n",
    "len(acc2scaffold) "
   ]
  },
  {
   "cell_type": "code",
   "execution_count": null,
   "id": "fe133f21",
   "metadata": {},
   "outputs": [],
   "source": [
    "nb_of_edf_homologs_file = 'edf_occurence_table.tsv'\n",
    "nb_of_edf_homologs = {}\n",
    "with open(nb_of_edf_homologs_file) as h:\n",
    "    next(h)\n",
    "    for l in h:\n",
    "        l = l.strip().split('\\t')\n",
    "        assert l[0] not in nb_of_edf_homologs\n",
    "        nb_of_edf_homologs[l[0]] = int(l[1])\n",
    "\n",
    "\n",
    "scaffold2anc_nb = Counter()  # numbers of proteins in at least 2 fungi per scaffold\n",
    "for acc in nb_of_edf_homologs:\n",
    "    if nb_of_edf_homologs[acc] >= 2:\n",
    "        try:\n",
    "            scaffold = acc2scaffold[acc]\n",
    "        except KeyError:\n",
    "            continue\n",
    "        scaffold2anc_nb[scaffold] += 1"
   ]
  },
  {
   "cell_type": "code",
   "execution_count": null,
   "id": "7ade9bc7",
   "metadata": {},
   "outputs": [],
   "source": []
  },
  {
   "cell_type": "code",
   "execution_count": null,
   "id": "6b25809d",
   "metadata": {},
   "outputs": [],
   "source": [
    "contaminants = 0\n",
    "to_retain = []\n",
    "for sid in seqids:\n",
    "    if sid in target_accessions:\n",
    "        on_ancestral_contig = scaffold2anc_nb[acc2scaffold[sid]] >= 1\n",
    "    else:  # we don't care about non-target proteins\n",
    "        on_ancestral_contig = True\n",
    "    to_retain.append(on_ancestral_contig)\n",
    "    contaminants += 1-on_ancestral_contig\n",
    "\n",
    "print('Removed %i possibly contaminating sequences' % contaminants)"
   ]
  },
  {
   "cell_type": "code",
   "execution_count": null,
   "id": "ab7ba747",
   "metadata": {},
   "outputs": [],
   "source": []
  }
 ],
 "metadata": {
  "kernelspec": {
   "display_name": "Python 3",
   "language": "python",
   "name": "python3"
  },
  "language_info": {
   "codemirror_mode": {
    "name": "ipython",
    "version": 3
   },
   "file_extension": ".py",
   "mimetype": "text/x-python",
   "name": "python",
   "nbconvert_exporter": "python",
   "pygments_lexer": "ipython3",
   "version": "3.8.0"
  }
 },
 "nbformat": 4,
 "nbformat_minor": 5
}
