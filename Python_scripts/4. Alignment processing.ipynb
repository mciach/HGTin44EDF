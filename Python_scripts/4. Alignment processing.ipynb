{
 "cells": [
  {
   "cell_type": "markdown",
   "metadata": {},
   "source": [
    "## Description\n",
    "\n",
    "In this notebook, we perform a slight processing of our alignments (for steps 9 and 11 of the graphical workflow / steps P7, P10 of the described pipeline).   \n",
    "We discard constant columns, gappy columns, gappy/short sequences.   \n",
    "We save the results in another directory.   "
   ]
  },
  {
   "cell_type": "markdown",
   "metadata": {},
   "source": [
    "## Modules"
   ]
  },
  {
   "cell_type": "code",
   "execution_count": 1,
   "metadata": {},
   "outputs": [],
   "source": [
    "from Bio import AlignIO\n",
    "import os\n",
    "from path import Path\n",
    "from matplotlib import pyplot as plt\n",
    "import numpy as np\n",
    "from hgt_algorithms import *"
   ]
  },
  {
   "cell_type": "markdown",
   "metadata": {},
   "source": [
    "## Data:"
   ]
  },
  {
   "cell_type": "markdown",
   "metadata": {},
   "source": [
    "Input variables; modify for different stages of the pipeline"
   ]
  },
  {
   "cell_type": "code",
   "execution_count": 2,
   "metadata": {},
   "outputs": [],
   "source": [
    "raw_alignment_dir = Path('second_round_raw_alignments')\n",
    "processed_alignment_dir = Path('second_round_processed_alignments')"
   ]
  },
  {
   "cell_type": "code",
   "execution_count": 5,
   "metadata": {},
   "outputs": [],
   "source": [
    "alignment_files = os.listdir(raw_alignment_dir)"
   ]
  },
  {
   "cell_type": "code",
   "execution_count": 6,
   "metadata": {
    "scrolled": true
   },
   "outputs": [
    {
     "data": {
      "text/plain": [
       "586"
      ]
     },
     "execution_count": 6,
     "metadata": {},
     "output_type": "execute_result"
    }
   ],
   "source": [
    "print('Number of found alignment files:', len(alignment_files))"
   ]
  },
  {
   "cell_type": "markdown",
   "metadata": {},
   "source": [
    "## Main processing"
   ]
  },
  {
   "cell_type": "markdown",
   "metadata": {},
   "source": [
    "Note: The cell below will **remove contents** of `processed_alignment_dir` and replace them with newly processed alignments.  "
   ]
  },
  {
   "cell_type": "code",
   "execution_count": null,
   "metadata": {},
   "outputs": [],
   "source": [
    "print('Processing %i alignments in' % len(alignment_files), raw_alignment_dir)\n",
    "print('Saving alignments in', processed_alignment_dir)\n",
    "try:\n",
    "    os.mkdir(processed_alignment_dir)\n",
    "except FileExistsError:\n",
    "    dir_contents = os.listdir(processed_alignment_dir)\n",
    "    for f in dir_contents:\n",
    "        os.remove(processed_alignment_dir + '/' + f)\n",
    "\n",
    "written_aln = 0\n",
    "written_seq = 0\n",
    "raw_ncols = []\n",
    "raw_nrows = []\n",
    "processed_ncols = []\n",
    "processed_nrows = []\n",
    "for i, f in enumerate(alignment_files):\n",
    "    A = AlignIO.read(raw_alignment_dir/f, 'fasta')\n",
    "    raw_nrows.append(len(A))\n",
    "    raw_ncols.append(A.get_alignment_length())\n",
    "    A = process_alignment(A, remove_constant_columns=True,\n",
    "                             min_row_nb_of_aa=20, \n",
    "                             max_column_gap_proportion=.8, max_row_gap_proportion=.75)        \n",
    "    processed_ncols.append(A.get_alignment_length())\n",
    "    processed_nrows.append(len(A))\n",
    "#         if len(A) <= 150:\n",
    "#             AlignIO.write(A, odir/f, 'fasta')\n",
    "#             written_aln += 1\n",
    "#             written_seq += len(A)\n",
    "    AlignIO.write(A, processed_alignment_dir/f, 'fasta')\n",
    "    written_aln += 1\n",
    "    written_seq += len(A)\n",
    "print('Written %i alignments with %i sequences' % (written_aln, written_seq))\n",
    "print()\n",
    "print('Results of processing alignments:')\n",
    "print('Number of sequences before processing:', sum(raw_nrows))\n",
    "print('Number of sequences after processing:', sum(processed_nrows))\n",
    "print('Discarded', sum(raw_nrows)-sum(processed_nrows), 'sequences and', sum(raw_ncols)-sum(processed_ncols), 'columns')\n",
    "print('Shortest alignment (seqnb) before processing:', min(raw_nrows))\n",
    "print('Shortest alignment (seqnb) after processing:', min(processed_nrows))\n",
    "print('Shortest alignment (colnb) before processing:', min(raw_ncols))\n",
    "print('Shortest alignment (colnb) after processing:', min(processed_ncols))\n",
    "print()"
   ]
  },
  {
   "cell_type": "markdown",
   "metadata": {},
   "source": [
    "Check if we need to discard some alignments because of the removal of sequences:"
   ]
  },
  {
   "cell_type": "code",
   "execution_count": null,
   "metadata": {},
   "outputs": [],
   "source": [
    "sum(l<4 for l in processed_nrows)"
   ]
  },
  {
   "cell_type": "code",
   "execution_count": 10,
   "metadata": {},
   "outputs": [
    {
     "data": {
      "image/png": "[encoded data removed]",
      "text/plain": [
       "<Figure size 576x576 with 4 Axes>"
      ]
     },
     "metadata": {
      "needs_background": "light"
     },
     "output_type": "display_data"
    }
   ],
   "source": [
    "plt.figure(figsize=(8,8))\n",
    "plt.subplot(221)\n",
    "plt.title('Raw number of sequences')\n",
    "plt.hist(raw_nrows, bins=100)\n",
    "plt.subplot(222)\n",
    "plt.title('Raw number of columns')\n",
    "plt.hist(raw_ncols, bins=100)\n",
    "plt.subplot(223)\n",
    "plt.title('Processed number of sequences')\n",
    "plt.hist(processed_nrows, bins=100)\n",
    "plt.subplot(224)\n",
    "plt.title('Processed number of colums')\n",
    "plt.hist(processed_ncols, bins=100)\n",
    "plt.tight_layout()\n",
    "plt.show()"
   ]
  },
  {
   "cell_type": "code",
   "execution_count": 11,
   "metadata": {},
   "outputs": [
    {
     "name": "stdout",
     "output_type": "stream",
     "text": [
      "Widest processed alignment: Cluster_253.fa.aln\n",
      "Widest raw alignment: Cluster_114.fa.aln\n",
      "Longest processed alignment: Cluster_40.fa.aln\n"
     ]
    }
   ],
   "source": [
    "print('Widest processed alignment:', alignment_files[np.argmax(processed_ncols)])\n",
    "print('Widest raw alignment:', alignment_files[np.argmax(raw_ncols)])\n",
    "print('Longest processed alignment:', alignment_files[np.argmax(processed_nrows)])"
   ]
  },
  {
   "cell_type": "markdown",
   "metadata": {},
   "source": [
    "It's worth checking manually the alignments above to spot any potential bugs and artifacts of the analysis.   \n",
    "You can use e.g. JalView for that.   \n",
    "You may also want to write additional tests, but they won't replace looking at the results.   "
   ]
  },
  {
   "cell_type": "markdown",
   "metadata": {},
   "source": [
    "## Examples of additional manual analyses of alignments for quality assessment   \n",
    "This is not essential - the computations were performed in the previous section.   \n",
    "However, it's a good practice to take a look at the results at each stage of the analysis.   \n",
    "Below are some examples how to do it.  "
   ]
  },
  {
   "cell_type": "markdown",
   "metadata": {},
   "source": [
    "Check if any alignment contains gaps.   \n",
    "Why? For example if you use an alignment trimming software before this notebook and want to check its results. GBlocks with default settings will not leave any gaps in the alignment, this is usually too strict.   "
   ]
  },
  {
   "cell_type": "code",
   "execution_count": null,
   "metadata": {},
   "outputs": [],
   "source": [
    "for i, f in enumerate(alignment_files):\n",
    "    A = AlignIO.read(raw_alignment_dir/f, 'fasta')\n",
    "    if any('-' in seq for seq in A):\n",
    "        gapped_alignment = A\n",
    "        break"
   ]
  },
  {
   "cell_type": "code",
   "execution_count": null,
   "metadata": {},
   "outputs": [],
   "source": [
    "print(i, f)\n",
    "print(gapped_alignment)"
   ]
  },
  {
   "cell_type": "markdown",
   "metadata": {},
   "source": [
    "Get the distribution of alignment lengths.   \n",
    "Why? To check if you have extremely long alignments that will take forever to compute and will be super unreliable in this kind of analysis (they're usually caused by single excessively long proteins caused by ORF prediction errors, rather than actually families of long proteins)"
   ]
  },
  {
   "cell_type": "code",
   "execution_count": null,
   "metadata": {},
   "outputs": [],
   "source": [
    "aln_lengths = [AlignIO.read(raw_alignment_dir/f, 'fasta').get_alignment_length() for f in alignment_files]"
   ]
  },
  {
   "cell_type": "code",
   "execution_count": null,
   "metadata": {},
   "outputs": [],
   "source": [
    "plt.figure()\n",
    "plt.hist(aln_lengths, bins=60)\n",
    "plt.show()"
   ]
  },
  {
   "cell_type": "code",
   "execution_count": null,
   "metadata": {},
   "outputs": [],
   "source": [
    "min(aln_lengths)"
   ]
  },
  {
   "cell_type": "markdown",
   "metadata": {},
   "source": [
    "Check the number of short alignments:"
   ]
  },
  {
   "cell_type": "code",
   "execution_count": null,
   "metadata": {},
   "outputs": [],
   "source": [
    "sum(l < 30 for l in aln_lengths)"
   ]
  },
  {
   "cell_type": "markdown",
   "metadata": {},
   "source": [
    "Get the length distribution after discarding constant columns, and numbers of unique sequences.   \n",
    "Why? To check how much this kind of filtering influences your results.   "
   ]
  },
  {
   "cell_type": "code",
   "execution_count": null,
   "metadata": {},
   "outputs": [],
   "source": [
    "new_lengths = [0]*len(alignment_files)\n",
    "number_of_sequences = [0]*len(alignment_files)\n",
    "number_of_unique_sequences = [0]*len(alignment_files)\n",
    "for i, f in enumerate(alignment_files):\n",
    "    A = AlignIO.read(raw_alignment_dir/f, 'fasta')\n",
    "    discard_constant_columns(A)  # this is a script from hgt_algorithms\n",
    "    new_lengths[i] = A.get_alignment_length()\n",
    "    number_of_sequences[i] = len(A)\n",
    "    number_of_unique_sequences[i] = len(set(a.seq for a in A))"
   ]
  },
  {
   "cell_type": "code",
   "execution_count": null,
   "metadata": {},
   "outputs": [],
   "source": [
    "plt.figure()\n",
    "plt.hist(new_lengths, bins=60)\n",
    "plt.show()"
   ]
  },
  {
   "cell_type": "code",
   "execution_count": null,
   "metadata": {},
   "outputs": [],
   "source": [
    "min(new_lengths)"
   ]
  },
  {
   "cell_type": "code",
   "execution_count": null,
   "metadata": {},
   "outputs": [],
   "source": [
    "sum(l < 20 for l in new_lengths)"
   ]
  },
  {
   "cell_type": "code",
   "execution_count": null,
   "metadata": {},
   "outputs": [],
   "source": [
    "# number_of_duplicates = [a-u for a,u in zip(number_of_sequences, number_of_unique_sequences)]"
   ]
  },
  {
   "cell_type": "code",
   "execution_count": null,
   "metadata": {},
   "outputs": [],
   "source": [
    "plt.figure()\n",
    "plt.hist(number_of_sequences, bins=40)\n",
    "plt.show()"
   ]
  },
  {
   "cell_type": "markdown",
   "metadata": {},
   "source": [
    "Check alignments with large numbers of sequences.  \n",
    "Why? Because you don't want too many of them, and that's because they will take exponentially forever to compute. And they will have errors - because each additional leaf is a potential error. You may need to filter your results more if you have many alignments with, say, more than 300 or 400 sequences. Or use a computing cluster, but I wouldn't recommend this path - increasing the computing power won't let you escape the harsh reality of imprecise data.     "
   ]
  },
  {
   "cell_type": "code",
   "execution_count": null,
   "metadata": {},
   "outputs": [],
   "source": [
    "max(number_of_sequences)"
   ]
  },
  {
   "cell_type": "code",
   "execution_count": null,
   "metadata": {},
   "outputs": [],
   "source": [
    "sum(x>=400 for x in number_of_sequences)"
   ]
  },
  {
   "cell_type": "code",
   "execution_count": null,
   "metadata": {},
   "outputs": [],
   "source": [
    "sum(x >= 4 and x <= 400 for x in number_of_sequences)"
   ]
  },
  {
   "cell_type": "code",
   "execution_count": null,
   "metadata": {},
   "outputs": [],
   "source": [
    "number_of_unique_sequences[number_of_sequences.index(max(number_of_sequences))]"
   ]
  },
  {
   "cell_type": "code",
   "execution_count": null,
   "metadata": {},
   "outputs": [],
   "source": [
    "# # A = AlignIO.read(raw_alignment_dir/alignment_files[number_of_sequences.index(max(number_of_sequences))], 'fasta')\n",
    "# A = AlignIO.read(raw_alignment_dir/alignment_files[42], 'fasta')\n",
    "# print(A)"
   ]
  },
  {
   "cell_type": "code",
   "execution_count": null,
   "metadata": {},
   "outputs": [],
   "source": [
    "# A2 = process_alignment(A)\n",
    "# print(A2)"
   ]
  },
  {
   "cell_type": "code",
   "execution_count": null,
   "metadata": {},
   "outputs": [],
   "source": [
    "# gaps = set()\n",
    "# chars = set()\n",
    "# for a in A2:\n",
    "#     gaps.add(sum(char == '-' for char in a.seq))\n",
    "# for j in range(A2.get_alignment_length()):\n",
    "#     chars.add(len(set(A[:,j])))\n",
    "# gaps"
   ]
  },
  {
   "cell_type": "code",
   "execution_count": null,
   "metadata": {
    "scrolled": true
   },
   "outputs": [],
   "source": [
    "# plt.figure()\n",
    "# plt.hist(number_of_unique_sequences, bins=40)\n",
    "# plt.show()"
   ]
  },
  {
   "cell_type": "code",
   "execution_count": null,
   "metadata": {},
   "outputs": [],
   "source": [
    "# plt.figure()\n",
    "# plt.hist(number_of_duplicates, bins=40)\n",
    "# plt.show()"
   ]
  },
  {
   "cell_type": "markdown",
   "metadata": {},
   "source": [
    "Check the impact of removing constant columns on discarding sequences.   \n",
    "Why? Because we delete columns first and then check the sequences; deleting columns decreases the numbers of amino acids in sequences; the sequences may end up having less than the required number of amino acids and get discarded. We want to check if that actually happends, when, and how often.   "
   ]
  },
  {
   "cell_type": "code",
   "execution_count": 31,
   "metadata": {},
   "outputs": [
    {
     "name": "stdout",
     "output_type": "stream",
     "text": [
      "Processing 2011 alignments in first_round_raw_alignments/I1.7\n",
      "Found it!\n"
     ]
    }
   ],
   "source": [
    "raw_ncols = []\n",
    "raw_nrows = []\n",
    "processed_ncols = []\n",
    "processed_nrows = []\n",
    "for i, f in enumerate(alignment_files):\n",
    "    A = AlignIO.read(wdir/f, 'fasta')\n",
    "    A1 = process_alignment(A, remove_constant_columns=False,\n",
    "                             min_row_nb_of_aa=10, \n",
    "                             max_column_gap_proportion=.8, max_row_gap_proportion=.9)        \n",
    "\n",
    "    A2 = process_alignment(A, remove_constant_columns=True,\n",
    "                             min_row_nb_of_aa=10, \n",
    "                             max_column_gap_proportion=.8, max_row_gap_proportion=.9)\n",
    "    if len(A1) > len(A2):\n",
    "        break\n",
    "print('Found it!')"
   ]
  },
  {
   "cell_type": "code",
   "execution_count": 19,
   "metadata": {},
   "outputs": [
    {
     "name": "stdout",
     "output_type": "stream",
     "text": [
      "Alignment with 112 rows and 1762 columns\n",
      "--------------------------------------------...--- AIA82461.1\n",
      "--------------------------------------------...--- ALL97694.1\n",
      "-MEY-----------DIESEDDAA-ESGAQENQ------ES---...--- AWH61386.1\n",
      "----------------MGGPLT----AAGGRGDGGAKAVEP-PP...--- BAD34005.1\n",
      "--------------------------------------------...GCS BBH10044.1\n",
      "-MNS----------------------------------------...--- CAA0407670.1\n",
      "--------------------------MSLMEL------------...GCS CAB4291254.1\n",
      "MEHSPE--------------------MGLTALDHSPEKTQSPPN...GCS CAB4321571.1\n",
      "-MQI---------------------LTTSDREDDVV--------...--- CCA68807.1\n",
      "-MED----------------------------------------...--- CDQ61940.1\n",
      "--------------------------------------------...--- EEC75643.1\n",
      "-MDS----------------------------------------...--- EFH41535.1\n",
      "-MSD-----------YVAGSLVNDRVMEGNLNNSTTEVIED---...--- ESZ96850.1\n",
      "-MQSQEEPPPK----------------TNSIDHH-------HGS...GGP EXB74915.1\n",
      "-MHQPE-NPLKRTFNEMNSDPSN---MDLEYHDQTAAASNN---...DDS GAV80701.1\n",
      "-MTS---KPSDLRIN----------LFEV--DDNKNGTVNEVPT...--- GBC03392.1\n",
      "--------------------------------------------...--- KAA0048795.1\n",
      "-MIP-----------DVDCTSTSTR-------------------...--- KAA5526227.1\n",
      "...\n",
      "MEHSPE--------------------MGITALDHSPEKTQSPPN...GCS XP_034226931.1\n"
     ]
    }
   ],
   "source": [
    "print(A1)"
   ]
  },
  {
   "cell_type": "code",
   "execution_count": 20,
   "metadata": {},
   "outputs": [
    {
     "name": "stdout",
     "output_type": "stream",
     "text": [
      "Alignment with 113 rows and 1760 columns\n",
      "--------------------------------------------...--- AIA82461.1\n",
      "--------------------------------------------...--- ALL97694.1\n",
      "-MEY-----------DIESEDDAA-ESGAQENQ------ES---...--- AWH61386.1\n",
      "----------------MGGPLT----AAGGRGDGGAKAVEP-PP...--- BAD34005.1\n",
      "--------------------------------------------...GCS BBH10044.1\n",
      "-MNS----------------------------------------...--- CAA0407670.1\n",
      "--------------------------MSLMEL------------...GCS CAB4291254.1\n",
      "MEHSPE--------------------MGLTALDHSPEKTQSPPN...GCS CAB4321571.1\n",
      "-MQI---------------------LTTSDREDDVV--------...--- CCA68807.1\n",
      "-MED----------------------------------------...--- CDQ61940.1\n",
      "--------------------------------------------...--- EEC75643.1\n",
      "-MDS----------------------------------------...--- EFH41535.1\n",
      "-MSD-----------YVAGSLVNDRVMEGNLNNSTTEVIED---...--- ESZ96850.1\n",
      "-MQSQEEPPPK----------------TNSIDHH-------HGS...GGP EXB74915.1\n",
      "-MHQPE-NPLKRTFNEMNSDPSN---MDLEYHDQTAAASNN---...DDS GAV80701.1\n",
      "-MTS---KPSDLRIN----------LFEV--DDNKNGTVNEVPT...--- GBC03392.1\n",
      "--------------------------------------------...--- KAA0048795.1\n",
      "-MIP-----------DVDCTSTSTR-------------------...--- KAA5526227.1\n",
      "...\n",
      "MEHSPE--------------------MGITALDHSPEKTQSPPN...GCS XP_034226931.1\n"
     ]
    }
   ],
   "source": [
    "print(A2)"
   ]
  },
  {
   "cell_type": "markdown",
   "metadata": {},
   "source": [
    "In the example above, only two constant columns were removed (on top of many gapped columns that were removed as well), and this difference of two columns caused a removal of an additional sequence.  \n",
    "Let's check the sequence.   "
   ]
  },
  {
   "cell_type": "code",
   "execution_count": 23,
   "metadata": {
    "scrolled": true
   },
   "outputs": [
    {
     "name": "stdout",
     "output_type": "stream",
     "text": [
      "[40]\n"
     ]
    }
   ],
   "source": [
    "removed = [i for i, s in enumerate(A2) if s.id not in [ss.id for ss in A1]]\n",
    "print(removed)"
   ]
  },
  {
   "cell_type": "code",
   "execution_count": 26,
   "metadata": {},
   "outputs": [
    {
     "name": "stdout",
     "output_type": "stream",
     "text": [
      "-MAS------------------------------------------------------------------------------------------------------------------------------------KRSATSKAQW---------LHSHPEKVQQILNHKKDTIENMMMDPLNANSHSMKS------------------------------------------------------------TDN--------------------------------------------------------------------------------------------------------------------------------SS-------------------------------------------------YN---D---------------------------------------------------IPLVNSIRLGQTHPLL--------------NTHIKFD--------IEDENND----------------------------------------------------NDNKINN-----------------------------KMN------------------------------------------------------------EKGKEKD-----------------------------------------------------------------------------------------------------------------------KEKEKEKENYTTK-----------------------------------------------------------------------------------------------------------------------------------------------------------------------------------------------PKVET-----------------------------------------TNEI-----------------------------------------------T------------------------------------------EKEEGE------------------------------------------------------TDEDSSSESS-----------------------------------------G---------------------------------------------------------------------------KEKKKE---------------------------------------------KMMMMMMMMMMKKKM--------------------------------KK----IIKYII----------------------------------------------K---------------------------------------------------------MK--------------------------------------------------------------------------------------------------------------------------------------------------------------------------------------------------\n"
     ]
    }
   ],
   "source": [
    "print(A2[40].seq)"
   ]
  },
  {
   "cell_type": "markdown",
   "metadata": {},
   "source": [
    "It's rubbish anyway, so we can afford losing it.   \n",
    "It's now worth checking other sequences on top of that and running a qualitative analysis of how often this happens.   "
   ]
  }
 ],
 "metadata": {
  "kernelspec": {
   "display_name": "Python 3",
   "language": "python",
   "name": "python3"
  },
  "language_info": {
   "codemirror_mode": {
    "name": "ipython",
    "version": 3
   },
   "file_extension": ".py",
   "mimetype": "text/x-python",
   "name": "python",
   "nbconvert_exporter": "python",
   "pygments_lexer": "ipython3",
   "version": "3.8.0"
  }
 },
 "nbformat": 4,
 "nbformat_minor": 2
}
